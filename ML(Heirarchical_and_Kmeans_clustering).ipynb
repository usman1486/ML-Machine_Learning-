{
 "cells": [
  {
   "cell_type": "code",
   "execution_count": null,
   "metadata": {},
   "outputs": [],
   "source": [
    "#ML(Heirarchical_clustering)-->first we need to how many cluster i should make so that data organized \n",
    "#in correct order \n",
    "#for that i have to plot dendograme to longest vertical lines no horizontal line cross them\n",
    "#then import Agglomerativeclustering (means hierarchical clustering)\n",
    "#then fit and predict\n",
    "#then sillhouette_score to check accuracy"
   ]
  },
  {
   "cell_type": "code",
   "execution_count": null,
   "metadata": {},
   "outputs": [],
   "source": []
  },
  {
   "cell_type": "code",
   "execution_count": 1,
   "metadata": {},
   "outputs": [],
   "source": [
    "import pandas as pd\n",
    "import matplotlib.pyplot as plt\n",
    "df=pd.read_csv(\"C:\\\\Users\\\\usman\\\\Documents\\\\Mall_customers.csv\")"
   ]
  },
  {
   "cell_type": "code",
   "execution_count": 2,
   "metadata": {},
   "outputs": [
    {
     "data": {
      "text/plain": [
       "CustomerID                0\n",
       "Genre                     0\n",
       "Age                       0\n",
       "Annual Income (k$)        0\n",
       "Spending Score (1-100)    0\n",
       "dtype: int64"
      ]
     },
     "execution_count": 2,
     "metadata": {},
     "output_type": "execute_result"
    }
   ],
   "source": [
    "df.isnull().sum()"
   ]
  },
  {
   "cell_type": "code",
   "execution_count": 3,
   "metadata": {},
   "outputs": [],
   "source": [
    "df1=df[[\"Age\"]]\n",
    "df2=df[[\"Annual Income (k$)\"]]"
   ]
  },
  {
   "cell_type": "code",
   "execution_count": 4,
   "metadata": {},
   "outputs": [],
   "source": [
    "final_df=pd.concat([df1,df2],axis=\"columns\")"
   ]
  },
  {
   "cell_type": "code",
   "execution_count": 5,
   "metadata": {},
   "outputs": [
    {
     "data": {
      "text/html": [
       "<div>\n",
       "<style scoped>\n",
       "    .dataframe tbody tr th:only-of-type {\n",
       "        vertical-align: middle;\n",
       "    }\n",
       "\n",
       "    .dataframe tbody tr th {\n",
       "        vertical-align: top;\n",
       "    }\n",
       "\n",
       "    .dataframe thead th {\n",
       "        text-align: right;\n",
       "    }\n",
       "</style>\n",
       "<table border=\"1\" class=\"dataframe\">\n",
       "  <thead>\n",
       "    <tr style=\"text-align: right;\">\n",
       "      <th></th>\n",
       "      <th>Age</th>\n",
       "      <th>Annual Income (k$)</th>\n",
       "    </tr>\n",
       "  </thead>\n",
       "  <tbody>\n",
       "    <tr>\n",
       "      <th>0</th>\n",
       "      <td>19</td>\n",
       "      <td>15</td>\n",
       "    </tr>\n",
       "    <tr>\n",
       "      <th>1</th>\n",
       "      <td>21</td>\n",
       "      <td>15</td>\n",
       "    </tr>\n",
       "    <tr>\n",
       "      <th>2</th>\n",
       "      <td>20</td>\n",
       "      <td>16</td>\n",
       "    </tr>\n",
       "    <tr>\n",
       "      <th>3</th>\n",
       "      <td>23</td>\n",
       "      <td>16</td>\n",
       "    </tr>\n",
       "    <tr>\n",
       "      <th>4</th>\n",
       "      <td>31</td>\n",
       "      <td>17</td>\n",
       "    </tr>\n",
       "    <tr>\n",
       "      <th>...</th>\n",
       "      <td>...</td>\n",
       "      <td>...</td>\n",
       "    </tr>\n",
       "    <tr>\n",
       "      <th>195</th>\n",
       "      <td>35</td>\n",
       "      <td>120</td>\n",
       "    </tr>\n",
       "    <tr>\n",
       "      <th>196</th>\n",
       "      <td>45</td>\n",
       "      <td>126</td>\n",
       "    </tr>\n",
       "    <tr>\n",
       "      <th>197</th>\n",
       "      <td>32</td>\n",
       "      <td>126</td>\n",
       "    </tr>\n",
       "    <tr>\n",
       "      <th>198</th>\n",
       "      <td>32</td>\n",
       "      <td>137</td>\n",
       "    </tr>\n",
       "    <tr>\n",
       "      <th>199</th>\n",
       "      <td>30</td>\n",
       "      <td>137</td>\n",
       "    </tr>\n",
       "  </tbody>\n",
       "</table>\n",
       "<p>200 rows × 2 columns</p>\n",
       "</div>"
      ],
      "text/plain": [
       "     Age  Annual Income (k$)\n",
       "0     19                  15\n",
       "1     21                  15\n",
       "2     20                  16\n",
       "3     23                  16\n",
       "4     31                  17\n",
       "..   ...                 ...\n",
       "195   35                 120\n",
       "196   45                 126\n",
       "197   32                 126\n",
       "198   32                 137\n",
       "199   30                 137\n",
       "\n",
       "[200 rows x 2 columns]"
      ]
     },
     "execution_count": 5,
     "metadata": {},
     "output_type": "execute_result"
    }
   ],
   "source": [
    "final_df"
   ]
  },
  {
   "cell_type": "code",
   "execution_count": 6,
   "metadata": {},
   "outputs": [
    {
     "data": {
      "image/png": "[encoded data removed]",
      "text/plain": [
       "<Figure size 1152x648 with 1 Axes>"
      ]
     },
     "metadata": {
      "needs_background": "light"
     },
     "output_type": "display_data"
    }
   ],
   "source": [
    "plt.figure(figsize=(16,9))\n",
    "plt.scatter(final_df[\"Age\"],final_df[\"Annual Income (k$)\"])\n",
    "plt.xlabel(\"Age\")\n",
    "plt.ylabel(\"Income($)\")\n",
    "plt.show()"
   ]
  },
  {
   "cell_type": "code",
   "execution_count": 7,
   "metadata": {},
   "outputs": [],
   "source": [
    " import scipy.cluster.hierarchy as sch"
   ]
  },
  {
   "cell_type": "code",
   "execution_count": 8,
   "metadata": {},
   "outputs": [
    {
     "data": {
      "image/png": "[encoded data removed]",
      "text/plain": [
       "<Figure size 1152x648 with 1 Axes>"
      ]
     },
     "metadata": {
      "needs_background": "light"
     },
     "output_type": "display_data"
    }
   ],
   "source": [
    "plt.figure(figsize=(16,9))\n",
    "sch.dendrogram(sch.linkage(final_df,method=\"ward\"))\n",
    "plt.show()"
   ]
  },
  {
   "cell_type": "code",
   "execution_count": 9,
   "metadata": {},
   "outputs": [],
   "source": [
    "from sklearn.cluster import KMeans"
   ]
  },
  {
   "cell_type": "code",
   "execution_count": 10,
   "metadata": {},
   "outputs": [],
   "source": [
    "from sklearn.cluster import AgglomerativeClustering"
   ]
  },
  {
   "cell_type": "code",
   "execution_count": 11,
   "metadata": {},
   "outputs": [],
   "source": [
    "dd=AgglomerativeClustering(n_clusters=2,\n",
    "    affinity='euclidean',\n",
    "    memory=None,\n",
    "    connectivity=None,\n",
    "    compute_full_tree='auto',\n",
    "    linkage='ward',\n",
    "    distance_threshold=None)"
   ]
  },
  {
   "cell_type": "code",
   "execution_count": 12,
   "metadata": {},
   "outputs": [],
   "source": [
    "final_df[\"cluster\"]=dd.fit_predict(final_df)"
   ]
  },
  {
   "cell_type": "code",
   "execution_count": 13,
   "metadata": {},
   "outputs": [
    {
     "data": {
      "text/html": [
       "<div>\n",
       "<style scoped>\n",
       "    .dataframe tbody tr th:only-of-type {\n",
       "        vertical-align: middle;\n",
       "    }\n",
       "\n",
       "    .dataframe tbody tr th {\n",
       "        vertical-align: top;\n",
       "    }\n",
       "\n",
       "    .dataframe thead th {\n",
       "        text-align: right;\n",
       "    }\n",
       "</style>\n",
       "<table border=\"1\" class=\"dataframe\">\n",
       "  <thead>\n",
       "    <tr style=\"text-align: right;\">\n",
       "      <th></th>\n",
       "      <th>Age</th>\n",
       "      <th>Annual Income (k$)</th>\n",
       "      <th>cluster</th>\n",
       "    </tr>\n",
       "  </thead>\n",
       "  <tbody>\n",
       "    <tr>\n",
       "      <th>0</th>\n",
       "      <td>19</td>\n",
       "      <td>15</td>\n",
       "      <td>1</td>\n",
       "    </tr>\n",
       "    <tr>\n",
       "      <th>1</th>\n",
       "      <td>21</td>\n",
       "      <td>15</td>\n",
       "      <td>1</td>\n",
       "    </tr>\n",
       "    <tr>\n",
       "      <th>2</th>\n",
       "      <td>20</td>\n",
       "      <td>16</td>\n",
       "      <td>1</td>\n",
       "    </tr>\n",
       "    <tr>\n",
       "      <th>3</th>\n",
       "      <td>23</td>\n",
       "      <td>16</td>\n",
       "      <td>1</td>\n",
       "    </tr>\n",
       "    <tr>\n",
       "      <th>4</th>\n",
       "      <td>31</td>\n",
       "      <td>17</td>\n",
       "      <td>1</td>\n",
       "    </tr>\n",
       "    <tr>\n",
       "      <th>...</th>\n",
       "      <td>...</td>\n",
       "      <td>...</td>\n",
       "      <td>...</td>\n",
       "    </tr>\n",
       "    <tr>\n",
       "      <th>195</th>\n",
       "      <td>35</td>\n",
       "      <td>120</td>\n",
       "      <td>0</td>\n",
       "    </tr>\n",
       "    <tr>\n",
       "      <th>196</th>\n",
       "      <td>45</td>\n",
       "      <td>126</td>\n",
       "      <td>0</td>\n",
       "    </tr>\n",
       "    <tr>\n",
       "      <th>197</th>\n",
       "      <td>32</td>\n",
       "      <td>126</td>\n",
       "      <td>0</td>\n",
       "    </tr>\n",
       "    <tr>\n",
       "      <th>198</th>\n",
       "      <td>32</td>\n",
       "      <td>137</td>\n",
       "      <td>0</td>\n",
       "    </tr>\n",
       "    <tr>\n",
       "      <th>199</th>\n",
       "      <td>30</td>\n",
       "      <td>137</td>\n",
       "      <td>0</td>\n",
       "    </tr>\n",
       "  </tbody>\n",
       "</table>\n",
       "<p>200 rows × 3 columns</p>\n",
       "</div>"
      ],
      "text/plain": [
       "     Age  Annual Income (k$)  cluster\n",
       "0     19                  15        1\n",
       "1     21                  15        1\n",
       "2     20                  16        1\n",
       "3     23                  16        1\n",
       "4     31                  17        1\n",
       "..   ...                 ...      ...\n",
       "195   35                 120        0\n",
       "196   45                 126        0\n",
       "197   32                 126        0\n",
       "198   32                 137        0\n",
       "199   30                 137        0\n",
       "\n",
       "[200 rows x 3 columns]"
      ]
     },
     "execution_count": 13,
     "metadata": {},
     "output_type": "execute_result"
    }
   ],
   "source": [
    "final_df"
   ]
  },
  {
   "cell_type": "code",
   "execution_count": 14,
   "metadata": {},
   "outputs": [],
   "source": [
    "from sklearn.metrics import silhouette_score"
   ]
  },
  {
   "cell_type": "code",
   "execution_count": 15,
   "metadata": {},
   "outputs": [
    {
     "data": {
      "text/plain": [
       "0.4106710030545199"
      ]
     },
     "execution_count": 15,
     "metadata": {},
     "output_type": "execute_result"
    }
   ],
   "source": [
    "silhouette_score(final_df,final_df.cluster)"
   ]
  },
  {
   "cell_type": "code",
   "execution_count": 17,
   "metadata": {},
   "outputs": [],
   "source": [
    "from sklearn.preprocessing import StandardScaler"
   ]
  },
  {
   "cell_type": "code",
   "execution_count": 28,
   "metadata": {},
   "outputs": [],
   "source": [
    "ssc=StandardScaler()\n",
    "d=final_df.drop([\"cluster\"],axis=\"columns\")"
   ]
  },
  {
   "cell_type": "code",
   "execution_count": 29,
   "metadata": {},
   "outputs": [],
   "source": [
    "bbc=ssc.fit_transform(d)"
   ]
  },
  {
   "cell_type": "code",
   "execution_count": 30,
   "metadata": {},
   "outputs": [
    {
     "data": {
      "text/plain": [
       "array([[-1.42456879, -1.73899919],\n",
       "       [-1.28103541, -1.73899919],\n",
       "       [-1.3528021 , -1.70082976],\n",
       "       [-1.13750203, -1.70082976],\n",
       "       [-0.56336851, -1.66266033],\n",
       "       [-1.20926872, -1.66266033],\n",
       "       [-0.27630176, -1.62449091],\n",
       "       [-1.13750203, -1.62449091],\n",
       "       [ 1.80493225, -1.58632148],\n",
       "       [-0.6351352 , -1.58632148],\n",
       "       [ 2.02023231, -1.58632148],\n",
       "       [-0.27630176, -1.58632148],\n",
       "       [ 1.37433211, -1.54815205],\n",
       "       [-1.06573534, -1.54815205],\n",
       "       [-0.13276838, -1.54815205],\n",
       "       [-1.20926872, -1.54815205],\n",
       "       [-0.27630176, -1.50998262],\n",
       "       [-1.3528021 , -1.50998262],\n",
       "       [ 0.94373197, -1.43364376],\n",
       "       [-0.27630176, -1.43364376],\n",
       "       [-0.27630176, -1.39547433],\n",
       "       [-0.99396865, -1.39547433],\n",
       "       [ 0.51313183, -1.3573049 ],\n",
       "       [-0.56336851, -1.3573049 ],\n",
       "       [ 1.08726535, -1.24279661],\n",
       "       [-0.70690189, -1.24279661],\n",
       "       [ 0.44136514, -1.24279661],\n",
       "       [-0.27630176, -1.24279661],\n",
       "       [ 0.08253169, -1.20462718],\n",
       "       [-1.13750203, -1.20462718],\n",
       "       [ 1.51786549, -1.16645776],\n",
       "       [-1.28103541, -1.16645776],\n",
       "       [ 1.01549866, -1.05194947],\n",
       "       [-1.49633548, -1.05194947],\n",
       "       [ 0.7284319 , -1.05194947],\n",
       "       [-1.28103541, -1.05194947],\n",
       "       [ 0.22606507, -1.01378004],\n",
       "       [-0.6351352 , -1.01378004],\n",
       "       [-0.20453507, -0.89927175],\n",
       "       [-1.3528021 , -0.89927175],\n",
       "       [ 1.87669894, -0.86110232],\n",
       "       [-1.06573534, -0.86110232],\n",
       "       [ 0.65666521, -0.82293289],\n",
       "       [-0.56336851, -0.82293289],\n",
       "       [ 0.7284319 , -0.82293289],\n",
       "       [-1.06573534, -0.82293289],\n",
       "       [ 0.80019859, -0.78476346],\n",
       "       [-0.85043527, -0.78476346],\n",
       "       [-0.70690189, -0.78476346],\n",
       "       [-0.56336851, -0.78476346],\n",
       "       [ 0.7284319 , -0.70842461],\n",
       "       [-0.41983513, -0.70842461],\n",
       "       [-0.56336851, -0.67025518],\n",
       "       [ 1.4460988 , -0.67025518],\n",
       "       [ 0.80019859, -0.67025518],\n",
       "       [ 0.58489852, -0.67025518],\n",
       "       [ 0.87196528, -0.63208575],\n",
       "       [ 2.16376569, -0.63208575],\n",
       "       [-0.85043527, -0.55574689],\n",
       "       [ 1.01549866, -0.55574689],\n",
       "       [ 2.23553238, -0.55574689],\n",
       "       [-1.42456879, -0.55574689],\n",
       "       [ 2.02023231, -0.51757746],\n",
       "       [ 1.08726535, -0.51757746],\n",
       "       [ 1.73316556, -0.47940803],\n",
       "       [-1.49633548, -0.47940803],\n",
       "       [ 0.29783176, -0.47940803],\n",
       "       [ 2.091999  , -0.47940803],\n",
       "       [-1.42456879, -0.47940803],\n",
       "       [-0.49160182, -0.47940803],\n",
       "       [ 2.23553238, -0.4412386 ],\n",
       "       [ 0.58489852, -0.4412386 ],\n",
       "       [ 1.51786549, -0.40306917],\n",
       "       [ 1.51786549, -0.40306917],\n",
       "       [ 1.4460988 , -0.25039146],\n",
       "       [-0.92220196, -0.25039146],\n",
       "       [ 0.44136514, -0.25039146],\n",
       "       [ 0.08253169, -0.25039146],\n",
       "       [-1.13750203, -0.25039146],\n",
       "       [ 0.7284319 , -0.25039146],\n",
       "       [ 1.30256542, -0.25039146],\n",
       "       [-0.06100169, -0.25039146],\n",
       "       [ 2.02023231, -0.25039146],\n",
       "       [ 0.51313183, -0.25039146],\n",
       "       [-1.28103541, -0.25039146],\n",
       "       [ 0.65666521, -0.25039146],\n",
       "       [ 1.15903204, -0.13588317],\n",
       "       [-1.20926872, -0.13588317],\n",
       "       [-0.34806844, -0.09771374],\n",
       "       [ 0.80019859, -0.09771374],\n",
       "       [ 2.091999  , -0.05954431],\n",
       "       [-1.49633548, -0.05954431],\n",
       "       [ 0.65666521, -0.02137488],\n",
       "       [ 0.08253169, -0.02137488],\n",
       "       [-0.49160182, -0.02137488],\n",
       "       [-1.06573534, -0.02137488],\n",
       "       [ 0.58489852, -0.02137488],\n",
       "       [-0.85043527, -0.02137488],\n",
       "       [ 0.65666521,  0.01679455],\n",
       "       [-1.3528021 ,  0.01679455],\n",
       "       [-1.13750203,  0.05496398],\n",
       "       [ 0.7284319 ,  0.05496398],\n",
       "       [ 2.02023231,  0.05496398],\n",
       "       [-0.92220196,  0.05496398],\n",
       "       [ 0.7284319 ,  0.05496398],\n",
       "       [-1.28103541,  0.05496398],\n",
       "       [ 1.94846562,  0.09313341],\n",
       "       [ 1.08726535,  0.09313341],\n",
       "       [ 2.091999  ,  0.09313341],\n",
       "       [ 1.94846562,  0.09313341],\n",
       "       [ 1.87669894,  0.09313341],\n",
       "       [-1.42456879,  0.09313341],\n",
       "       [-0.06100169,  0.13130284],\n",
       "       [-1.42456879,  0.13130284],\n",
       "       [-1.49633548,  0.16947227],\n",
       "       [-1.42456879,  0.16947227],\n",
       "       [ 1.73316556,  0.16947227],\n",
       "       [ 0.7284319 ,  0.16947227],\n",
       "       [ 0.87196528,  0.24581112],\n",
       "       [ 0.80019859,  0.24581112],\n",
       "       [-0.85043527,  0.24581112],\n",
       "       [-0.06100169,  0.24581112],\n",
       "       [ 0.08253169,  0.32214998],\n",
       "       [ 0.010765  ,  0.32214998],\n",
       "       [-1.13750203,  0.36031941],\n",
       "       [-0.56336851,  0.36031941],\n",
       "       [ 0.29783176,  0.39848884],\n",
       "       [ 0.08253169,  0.39848884],\n",
       "       [ 1.4460988 ,  0.39848884],\n",
       "       [-0.06100169,  0.39848884],\n",
       "       [ 0.58489852,  0.39848884],\n",
       "       [ 0.010765  ,  0.39848884],\n",
       "       [-0.99396865,  0.43665827],\n",
       "       [-0.56336851,  0.43665827],\n",
       "       [-1.3528021 ,  0.4748277 ],\n",
       "       [-0.70690189,  0.4748277 ],\n",
       "       [ 0.36959845,  0.4748277 ],\n",
       "       [-0.49160182,  0.4748277 ],\n",
       "       [-1.42456879,  0.51299713],\n",
       "       [-0.27630176,  0.51299713],\n",
       "       [ 1.30256542,  0.55116656],\n",
       "       [-0.49160182,  0.55116656],\n",
       "       [-0.77866858,  0.58933599],\n",
       "       [-0.49160182,  0.58933599],\n",
       "       [-0.99396865,  0.62750542],\n",
       "       [-0.77866858,  0.62750542],\n",
       "       [ 0.65666521,  0.62750542],\n",
       "       [-0.49160182,  0.62750542],\n",
       "       [-0.34806844,  0.66567484],\n",
       "       [-0.34806844,  0.66567484],\n",
       "       [ 0.29783176,  0.66567484],\n",
       "       [ 0.010765  ,  0.66567484],\n",
       "       [ 0.36959845,  0.66567484],\n",
       "       [-0.06100169,  0.66567484],\n",
       "       [ 0.58489852,  0.66567484],\n",
       "       [-0.85043527,  0.66567484],\n",
       "       [-0.13276838,  0.66567484],\n",
       "       [-0.6351352 ,  0.66567484],\n",
       "       [-0.34806844,  0.66567484],\n",
       "       [-0.6351352 ,  0.66567484],\n",
       "       [ 1.23079873,  0.70384427],\n",
       "       [-0.70690189,  0.70384427],\n",
       "       [-1.42456879,  0.78018313],\n",
       "       [-0.56336851,  0.78018313],\n",
       "       [ 0.80019859,  0.93286085],\n",
       "       [-0.20453507,  0.93286085],\n",
       "       [ 0.22606507,  0.97103028],\n",
       "       [-0.41983513,  0.97103028],\n",
       "       [-0.20453507,  1.00919971],\n",
       "       [-0.49160182,  1.00919971],\n",
       "       [ 0.08253169,  1.00919971],\n",
       "       [-0.77866858,  1.00919971],\n",
       "       [-0.20453507,  1.00919971],\n",
       "       [-0.20453507,  1.00919971],\n",
       "       [ 0.94373197,  1.04736914],\n",
       "       [-0.6351352 ,  1.04736914],\n",
       "       [ 1.37433211,  1.04736914],\n",
       "       [-0.85043527,  1.04736914],\n",
       "       [ 1.4460988 ,  1.23821628],\n",
       "       [-0.27630176,  1.23821628],\n",
       "       [-0.13276838,  1.390894  ],\n",
       "       [-0.49160182,  1.390894  ],\n",
       "       [ 0.51313183,  1.42906343],\n",
       "       [-0.70690189,  1.42906343],\n",
       "       [ 0.15429838,  1.46723286],\n",
       "       [-0.6351352 ,  1.46723286],\n",
       "       [ 1.08726535,  1.54357172],\n",
       "       [-0.77866858,  1.54357172],\n",
       "       [ 0.15429838,  1.61991057],\n",
       "       [-0.20453507,  1.61991057],\n",
       "       [-0.34806844,  1.61991057],\n",
       "       [-0.49160182,  1.61991057],\n",
       "       [-0.41983513,  2.00160487],\n",
       "       [-0.06100169,  2.00160487],\n",
       "       [ 0.58489852,  2.26879087],\n",
       "       [-0.27630176,  2.26879087],\n",
       "       [ 0.44136514,  2.49780745],\n",
       "       [-0.49160182,  2.49780745],\n",
       "       [-0.49160182,  2.91767117],\n",
       "       [-0.6351352 ,  2.91767117]])"
      ]
     },
     "execution_count": 30,
     "metadata": {},
     "output_type": "execute_result"
    }
   ],
   "source": [
    "bbc"
   ]
  },
  {
   "cell_type": "code",
   "execution_count": 31,
   "metadata": {},
   "outputs": [],
   "source": [
    "ffdf=pd.DataFrame(bbc,columns=[\"Age\",\"Annual Income (k$)\"])"
   ]
  },
  {
   "cell_type": "code",
   "execution_count": 36,
   "metadata": {},
   "outputs": [
    {
     "data": {
      "text/html": [
       "<div>\n",
       "<style scoped>\n",
       "    .dataframe tbody tr th:only-of-type {\n",
       "        vertical-align: middle;\n",
       "    }\n",
       "\n",
       "    .dataframe tbody tr th {\n",
       "        vertical-align: top;\n",
       "    }\n",
       "\n",
       "    .dataframe thead th {\n",
       "        text-align: right;\n",
       "    }\n",
       "</style>\n",
       "<table border=\"1\" class=\"dataframe\">\n",
       "  <thead>\n",
       "    <tr style=\"text-align: right;\">\n",
       "      <th></th>\n",
       "      <th>Age</th>\n",
       "      <th>Annual Income (k$)</th>\n",
       "    </tr>\n",
       "  </thead>\n",
       "  <tbody>\n",
       "    <tr>\n",
       "      <th>count</th>\n",
       "      <td>2.000000e+02</td>\n",
       "      <td>2.000000e+02</td>\n",
       "    </tr>\n",
       "    <tr>\n",
       "      <th>mean</th>\n",
       "      <td>-9.603429e-17</td>\n",
       "      <td>-6.128431e-16</td>\n",
       "    </tr>\n",
       "    <tr>\n",
       "      <th>std</th>\n",
       "      <td>1.002509e+00</td>\n",
       "      <td>1.002509e+00</td>\n",
       "    </tr>\n",
       "    <tr>\n",
       "      <th>min</th>\n",
       "      <td>-1.496335e+00</td>\n",
       "      <td>-1.738999e+00</td>\n",
       "    </tr>\n",
       "    <tr>\n",
       "      <th>25%</th>\n",
       "      <td>-7.248436e-01</td>\n",
       "      <td>-7.275093e-01</td>\n",
       "    </tr>\n",
       "    <tr>\n",
       "      <th>50%</th>\n",
       "      <td>-2.045351e-01</td>\n",
       "      <td>3.587926e-02</td>\n",
       "    </tr>\n",
       "    <tr>\n",
       "      <th>75%</th>\n",
       "      <td>7.284319e-01</td>\n",
       "      <td>6.656748e-01</td>\n",
       "    </tr>\n",
       "    <tr>\n",
       "      <th>max</th>\n",
       "      <td>2.235532e+00</td>\n",
       "      <td>2.917671e+00</td>\n",
       "    </tr>\n",
       "  </tbody>\n",
       "</table>\n",
       "</div>"
      ],
      "text/plain": [
       "                Age  Annual Income (k$)\n",
       "count  2.000000e+02        2.000000e+02\n",
       "mean  -9.603429e-17       -6.128431e-16\n",
       "std    1.002509e+00        1.002509e+00\n",
       "min   -1.496335e+00       -1.738999e+00\n",
       "25%   -7.248436e-01       -7.275093e-01\n",
       "50%   -2.045351e-01        3.587926e-02\n",
       "75%    7.284319e-01        6.656748e-01\n",
       "max    2.235532e+00        2.917671e+00"
      ]
     },
     "execution_count": 36,
     "metadata": {},
     "output_type": "execute_result"
    }
   ],
   "source": [
    "ffdf.describe()"
   ]
  },
  {
   "cell_type": "code",
   "execution_count": 75,
   "metadata": {},
   "outputs": [
    {
     "name": "stderr",
     "output_type": "stream",
     "text": [
      "C:\\Users\\usman\\anaconda\\lib\\site-packages\\seaborn\\distributions.py:2551: FutureWarning: `distplot` is a deprecated function and will be removed in a future version. Please adapt your code to use either `displot` (a figure-level function with similar flexibility) or `histplot` (an axes-level function for histograms).\n",
      "  warnings.warn(msg, FutureWarning)\n"
     ]
    },
    {
     "data": {
      "image/png": "[encoded data removed]",
      "text/plain": [
       "<Figure size 432x288 with 1 Axes>"
      ]
     },
     "metadata": {
      "needs_background": "light"
     },
     "output_type": "display_data"
    }
   ],
   "source": [
    "import seaborn as sns\n",
    "\n",
    "sns.distplot(ffdf)\n",
    "plt.show()"
   ]
  },
  {
   "cell_type": "code",
   "execution_count": 76,
   "metadata": {},
   "outputs": [
    {
     "name": "stderr",
     "output_type": "stream",
     "text": [
      "C:\\Users\\usman\\anaconda\\lib\\site-packages\\seaborn\\distributions.py:2551: FutureWarning: `distplot` is a deprecated function and will be removed in a future version. Please adapt your code to use either `displot` (a figure-level function with similar flexibility) or `histplot` (an axes-level function for histograms).\n",
      "  warnings.warn(msg, FutureWarning)\n"
     ]
    },
    {
     "data": {
      "text/plain": [
       "<AxesSubplot:ylabel='Density'>"
      ]
     },
     "execution_count": 76,
     "metadata": {},
     "output_type": "execute_result"
    },
    {
     "data": {
      "image/png": "[encoded data removed]",
      "text/plain": [
       "<Figure size 432x288 with 1 Axes>"
      ]
     },
     "metadata": {
      "needs_background": "light"
     },
     "output_type": "display_data"
    }
   ],
   "source": [
    "sns.distplot(final_df)"
   ]
  },
  {
   "cell_type": "code",
   "execution_count": 46,
   "metadata": {},
   "outputs": [],
   "source": [
    "import scipy.cluster.hierarchy as sh"
   ]
  },
  {
   "cell_type": "code",
   "execution_count": 48,
   "metadata": {},
   "outputs": [
    {
     "data": {
      "image/png": "[encoded data removed]",
      "text/plain": [
       "<Figure size 432x288 with 1 Axes>"
      ]
     },
     "metadata": {
      "needs_background": "light"
     },
     "output_type": "display_data"
    }
   ],
   "source": [
    "sh.dendrogram(sh.linkage(ffdf,method=\"ward\"))\n",
    "plt.show()"
   ]
  },
  {
   "cell_type": "code",
   "execution_count": 63,
   "metadata": {},
   "outputs": [],
   "source": [
    "from sklearn.cluster import AgglomerativeClustering"
   ]
  },
  {
   "cell_type": "code",
   "execution_count": 68,
   "metadata": {},
   "outputs": [],
   "source": [
    "vc=AgglomerativeClustering(n_clusters=2,\n",
    "    affinity='euclidean',\n",
    "    memory=None,\n",
    "    connectivity=None,\n",
    "    compute_full_tree='auto',\n",
    "    linkage='ward',\n",
    "    distance_threshold=None)"
   ]
  },
  {
   "cell_type": "code",
   "execution_count": 69,
   "metadata": {},
   "outputs": [],
   "source": [
    "y_pred=vc.fit_predict(ffdf)"
   ]
  },
  {
   "cell_type": "code",
   "execution_count": 70,
   "metadata": {},
   "outputs": [],
   "source": [
    "from sklearn.metrics import silhouette_score"
   ]
  },
  {
   "cell_type": "code",
   "execution_count": 71,
   "metadata": {},
   "outputs": [
    {
     "data": {
      "text/plain": [
       "0.3327529473550603"
      ]
     },
     "execution_count": 71,
     "metadata": {},
     "output_type": "execute_result"
    }
   ],
   "source": [
    "silhouette_score(ffdf,y_pred)\n"
   ]
  },
  {
   "cell_type": "code",
   "execution_count": 77,
   "metadata": {},
   "outputs": [],
   "source": [
    "#ML(Kmeans)-->first we need to how many cluster i should make so that data organized \n",
    "#in correct order \n",
    "#for that i have to plot elbow to suitable cluster\n",
    "#then import Kmeans\n",
    "#then fit and predict\n",
    "#then sillhouette_score to check accuracy"
   ]
  },
  {
   "cell_type": "code",
   "execution_count": 79,
   "metadata": {},
   "outputs": [
    {
     "data": {
      "text/html": [
       "<div>\n",
       "<style scoped>\n",
       "    .dataframe tbody tr th:only-of-type {\n",
       "        vertical-align: middle;\n",
       "    }\n",
       "\n",
       "    .dataframe tbody tr th {\n",
       "        vertical-align: top;\n",
       "    }\n",
       "\n",
       "    .dataframe thead th {\n",
       "        text-align: right;\n",
       "    }\n",
       "</style>\n",
       "<table border=\"1\" class=\"dataframe\">\n",
       "  <thead>\n",
       "    <tr style=\"text-align: right;\">\n",
       "      <th></th>\n",
       "      <th>Age</th>\n",
       "      <th>Annual Income (k$)</th>\n",
       "    </tr>\n",
       "  </thead>\n",
       "  <tbody>\n",
       "    <tr>\n",
       "      <th>0</th>\n",
       "      <td>-1.424569</td>\n",
       "      <td>-1.738999</td>\n",
       "    </tr>\n",
       "    <tr>\n",
       "      <th>1</th>\n",
       "      <td>-1.281035</td>\n",
       "      <td>-1.738999</td>\n",
       "    </tr>\n",
       "    <tr>\n",
       "      <th>2</th>\n",
       "      <td>-1.352802</td>\n",
       "      <td>-1.700830</td>\n",
       "    </tr>\n",
       "    <tr>\n",
       "      <th>3</th>\n",
       "      <td>-1.137502</td>\n",
       "      <td>-1.700830</td>\n",
       "    </tr>\n",
       "    <tr>\n",
       "      <th>4</th>\n",
       "      <td>-0.563369</td>\n",
       "      <td>-1.662660</td>\n",
       "    </tr>\n",
       "    <tr>\n",
       "      <th>...</th>\n",
       "      <td>...</td>\n",
       "      <td>...</td>\n",
       "    </tr>\n",
       "    <tr>\n",
       "      <th>195</th>\n",
       "      <td>-0.276302</td>\n",
       "      <td>2.268791</td>\n",
       "    </tr>\n",
       "    <tr>\n",
       "      <th>196</th>\n",
       "      <td>0.441365</td>\n",
       "      <td>2.497807</td>\n",
       "    </tr>\n",
       "    <tr>\n",
       "      <th>197</th>\n",
       "      <td>-0.491602</td>\n",
       "      <td>2.497807</td>\n",
       "    </tr>\n",
       "    <tr>\n",
       "      <th>198</th>\n",
       "      <td>-0.491602</td>\n",
       "      <td>2.917671</td>\n",
       "    </tr>\n",
       "    <tr>\n",
       "      <th>199</th>\n",
       "      <td>-0.635135</td>\n",
       "      <td>2.917671</td>\n",
       "    </tr>\n",
       "  </tbody>\n",
       "</table>\n",
       "<p>200 rows × 2 columns</p>\n",
       "</div>"
      ],
      "text/plain": [
       "          Age  Annual Income (k$)\n",
       "0   -1.424569           -1.738999\n",
       "1   -1.281035           -1.738999\n",
       "2   -1.352802           -1.700830\n",
       "3   -1.137502           -1.700830\n",
       "4   -0.563369           -1.662660\n",
       "..        ...                 ...\n",
       "195 -0.276302            2.268791\n",
       "196  0.441365            2.497807\n",
       "197 -0.491602            2.497807\n",
       "198 -0.491602            2.917671\n",
       "199 -0.635135            2.917671\n",
       "\n",
       "[200 rows x 2 columns]"
      ]
     },
     "execution_count": 79,
     "metadata": {},
     "output_type": "execute_result"
    }
   ],
   "source": [
    "ffdf"
   ]
  },
  {
   "cell_type": "code",
   "execution_count": 85,
   "metadata": {},
   "outputs": [],
   "source": [
    "from sklearn.cluster import KMeans"
   ]
  },
  {
   "cell_type": "code",
   "execution_count": 88,
   "metadata": {},
   "outputs": [],
   "source": [
    "irg=range(1,12)\n",
    "sse=[]\n",
    "for k in irg:\n",
    "    km=KMeans(n_clusters=k)\n",
    "    km.fit(ffdf)\n",
    "    sse.append(km.inertia_)"
   ]
  },
  {
   "cell_type": "code",
   "execution_count": 91,
   "metadata": {},
   "outputs": [
    {
     "data": {
      "image/png": "[encoded data removed]",
      "text/plain": [
       "<Figure size 432x288 with 1 Axes>"
      ]
     },
     "metadata": {
      "needs_background": "light"
     },
     "output_type": "display_data"
    }
   ],
   "source": [
    "plt.plot(irg,sse)\n",
    "plt.show()"
   ]
  },
  {
   "cell_type": "code",
   "execution_count": 92,
   "metadata": {},
   "outputs": [],
   "source": [
    "gg=KMeans(n_clusters=4)"
   ]
  },
  {
   "cell_type": "code",
   "execution_count": 100,
   "metadata": {},
   "outputs": [
    {
     "data": {
      "text/plain": [
       "array([0, 0, 0, 0, 0, 0, 0, 0, 1, 0, 1, 0, 1, 0, 0, 0, 0, 0, 1, 0, 0, 0,\n",
       "       1, 0, 1, 0, 1, 0, 0, 0, 1, 0, 1, 0, 1, 0, 0, 0, 0, 0, 1, 0, 1, 0,\n",
       "       1, 0, 1, 0, 0, 0, 1, 0, 0, 1, 1, 1, 1, 1, 0, 1, 1, 0, 1, 1, 1, 0,\n",
       "       1, 1, 0, 0, 1, 1, 1, 1, 1, 2, 1, 2, 2, 1, 1, 2, 1, 1, 2, 1, 1, 2,\n",
       "       2, 1, 1, 2, 1, 2, 2, 2, 1, 2, 1, 2, 2, 1, 1, 2, 1, 2, 1, 1, 1, 1,\n",
       "       1, 2, 2, 2, 2, 2, 1, 1, 1, 1, 2, 2, 2, 2, 2, 2, 2, 2, 1, 2, 1, 2,\n",
       "       2, 2, 2, 2, 3, 2, 2, 2, 1, 2, 2, 2, 2, 2, 3, 2, 2, 2, 3, 2, 3, 2,\n",
       "       3, 2, 2, 2, 2, 2, 1, 2, 2, 2, 3, 3, 3, 2, 3, 2, 3, 2, 3, 3, 3, 2,\n",
       "       3, 2, 3, 3, 3, 3, 3, 3, 3, 3, 3, 3, 3, 3, 3, 3, 3, 3, 3, 3, 3, 3,\n",
       "       3, 3])"
      ]
     },
     "execution_count": 100,
     "metadata": {},
     "output_type": "execute_result"
    }
   ],
   "source": [
    "xyz=gg.fit_predict(ffdf)\n",
    "xyz"
   ]
  },
  {
   "cell_type": "code",
   "execution_count": 95,
   "metadata": {},
   "outputs": [],
   "source": [
    "from sklearn.metrics import silhouette_score"
   ]
  },
  {
   "cell_type": "code",
   "execution_count": 96,
   "metadata": {},
   "outputs": [
    {
     "data": {
      "text/plain": [
       "0.4053219101959163"
      ]
     },
     "execution_count": 96,
     "metadata": {},
     "output_type": "execute_result"
    }
   ],
   "source": [
    "silhouette_score(ffdf,xyz)"
   ]
  },
  {
   "cell_type": "code",
   "execution_count": 97,
   "metadata": {},
   "outputs": [],
   "source": [
    "ffdf['cluster']=xyz"
   ]
  },
  {
   "cell_type": "code",
   "execution_count": 109,
   "metadata": {},
   "outputs": [
    {
     "data": {
      "text/plain": [
       "<matplotlib.collections.PathCollection at 0x1f4f8b5cbb0>"
      ]
     },
     "execution_count": 109,
     "metadata": {},
     "output_type": "execute_result"
    },
    {
     "data": {
      "image/png": "[encoded data removed]",
      "text/plain": [
       "<Figure size 1152x648 with 1 Axes>"
      ]
     },
     "metadata": {
      "needs_background": "light"
     },
     "output_type": "display_data"
    }
   ],
   "source": [
    "plt.figure(figsize=(16,9))\n",
    "plt.scatter(ffdf[\"Age\"],ffdf['Annual Income (k$)'])"
   ]
  },
  {
   "cell_type": "code",
   "execution_count": null,
   "metadata": {},
   "outputs": [],
   "source": []
  },
  {
   "cell_type": "code",
   "execution_count": null,
   "metadata": {},
   "outputs": [],
   "source": []
  }
 ],
 "metadata": {
  "kernelspec": {
   "display_name": "Python 3",
   "language": "python",
   "name": "python3"
  },
  "language_info": {
   "codemirror_mode": {
    "name": "ipython",
    "version": 3
   },
   "file_extension": ".py",
   "mimetype": "text/x-python",
   "name": "python",
   "nbconvert_exporter": "python",
   "pygments_lexer": "ipython3",
   "version": "3.8.5"
  }
 },
 "nbformat": 4,
 "nbformat_minor": 4
}
